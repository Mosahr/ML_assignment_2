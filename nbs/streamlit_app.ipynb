{
 "cells": [
  {
   "cell_type": "markdown",
   "id": "e1df8775",
   "metadata": {},
   "source": [
    "## Imports"
   ]
  },
  {
   "cell_type": "code",
   "execution_count": 12,
   "id": "a5d978e9",
   "metadata": {},
   "outputs": [],
   "source": [
    "from pycaret.classification import load_model, predict_model \n",
    "import pandas as pd \n",
    "import numpy as np\n",
    "import streamlit as st\n",
    "from PIL import Image\n",
    "import os"
   ]
  },
  {
   "cell_type": "markdown",
   "id": "5836462d",
   "metadata": {},
   "source": [
    "## Streamlit"
   ]
  },
  {
   "cell_type": "code",
   "execution_count": 18,
   "id": "8a9d8fb8",
   "metadata": {
    "scrolled": true
   },
   "outputs": [
    {
     "name": "stderr",
     "output_type": "stream",
     "text": [
      "2021-11-11 16:42:33.262 Initializing load_model()\n",
      "2021-11-11 16:42:33.264 load_model(model_name=../model/box_office_model, platform=None, authentication=None, verbose=True)\n"
     ]
    },
    {
     "name": "stdout",
     "output_type": "stream",
     "text": [
      "Transformation Pipeline and Model Successfully Loaded\n"
     ]
    }
   ],
   "source": [
    "class StreamlitApp:\n",
    "    \n",
    "    def __init__(self):\n",
    "        self.model = load_model('../model/box_office_model') \n",
    "        self.save_fn = '../path.csv' \n",
    "        \n",
    "    def predict(self, input_data): \n",
    "        return predict_model(self.model, data=input_data)\n",
    "    \n",
    "    def store_prediction(self, output_df): \n",
    "        if os.path.exists(self.save_fn):\n",
    "            save_df = pd.read_csv(self.save_fn)\n",
    "            save_df = save_df.append(output_df, ignore_index=True)\n",
    "            save_df.to_csv(self.save_fn, index=False)\n",
    "            \n",
    "        else: \n",
    "            output_df.to_csv(self.save_fn, index=False) \n",
    "            \n",
    "\n",
    "    \n",
    "    def run(self):\n",
    "        image = Image.open('../assets/Box_Office.jfif')\n",
    "        st.image(image, use_column_width=False)\n",
    "    \n",
    "    \n",
    "        add_selectbox = st.sidebar.selectbox('How would you like to predict?', ('Online', 'Batch')) #bruke batch for aa predikere paa alle bildene. \n",
    "        st.sidebar.info('This app is created to predict revenue for movies' )\n",
    "        st.sidebar.success('DAT158')\n",
    "        st.title('Box Office Predictions')\n",
    "        \n",
    "       \n",
    "        if add_selectbox == 'Online': \n",
    "            budget = st.number_input('budget', min_value=0, max_value=100000000, value=1000000)\n",
    "            popularity = st.number_input('popularity', min_value=0, max_value=100, value=0)\n",
    "            runtime = st.number_input('runtime', min_value=0, max_value=500, value=0)\n",
    "            \n",
    "            output=''\n",
    "            input_dict = {'budget':budget, 'popularity':popularity, 'runtime':runtime}\n",
    "            input_df = pd.DataFrame(input_dict, index=[0])\n",
    "        \n",
    "            if st.button('Predict'): \n",
    "                output = self.predict(input_df)\n",
    "                self.store_prediction(output)\n",
    "                \n",
    "                output = output['Label'][0]\n",
    "                #output = str(output['Label'])\n",
    "                \n",
    "            \n",
    "            st.success('Predicted output: {}'.format(output))\n",
    "            \n",
    "        if add_selectbox == 'Batch': \n",
    "            fn = st.file_uploader(\"Upload csv file for predictions\") #st.file_uploader('Upload csv file for predictions, type=[\"csv\"]')\n",
    "            if fn is not None: \n",
    "                input_df = pd.read_csv(fn)\n",
    "                predictions = self.predict(input_df)\n",
    "                st.write(predictions)        \n",
    "            \n",
    "            \n",
    "        \n",
    "            \n",
    "sa = StreamlitApp()\n",
    "sa.run()"
   ]
  },
  {
   "cell_type": "code",
   "execution_count": 19,
   "id": "d14c56bb",
   "metadata": {},
   "outputs": [
    {
     "name": "stderr",
     "output_type": "stream",
     "text": [
      "[NbConvertApp] Converting notebook streamlit_app.ipynb to script\n",
      "[NbConvertApp] Writing 2686 bytes to streamlit_app.py\n"
     ]
    }
   ],
   "source": [
    "!jupyter nbconvert --to script streamlit_app.ipynb"
   ]
  }
 ],
 "metadata": {
  "kernelspec": {
   "display_name": "Python 3",
   "language": "python",
   "name": "python3"
  },
  "language_info": {
   "codemirror_mode": {
    "name": "ipython",
    "version": 3
   },
   "file_extension": ".py",
   "mimetype": "text/x-python",
   "name": "python",
   "nbconvert_exporter": "python",
   "pygments_lexer": "ipython3",
   "version": "3.8.8"
  }
 },
 "nbformat": 4,
 "nbformat_minor": 5
}
