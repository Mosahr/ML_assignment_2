{
 "cells": [
  {
   "cell_type": "markdown",
   "id": "6b44f94e",
   "metadata": {},
   "source": [
    "## Imports"
   ]
  },
  {
   "cell_type": "code",
   "execution_count": null,
   "id": "9d43092e",
   "metadata": {},
   "outputs": [],
   "source": [
    "from pycaret.classification import load_model, predict_model \n",
    "import pandas as pd \n",
    "import numpy as np\n",
    "import streamlit as st\n",
    "from PIL import Image\n",
    "import os"
   ]
  },
  {
   "cell_type": "markdown",
   "id": "27a18bff",
   "metadata": {},
   "source": [
    "## Streamlit"
   ]
  },
  {
   "cell_type": "code",
   "execution_count": null,
   "id": "60051797",
   "metadata": {},
   "outputs": [],
   "source": [
    "class StreamlitApp:\n",
    "    \n",
    "    def __init__(self):\n",
    "        self.model = load_model('box_office_model') \n",
    "        self.save_fn = 'path.csv' \n",
    "        \n",
    "    def predict(self, input_data): \n",
    "    return predict_model(self.model, data=input_data)\n",
    "    \n",
    "    def store_prediction(self, output_df): \n",
    "        if os.path.exists(self.save_fn):\n",
    "            save_df = pd.read_csv(self.save_fn)\n",
    "            save_df = save_df.append(output_df, ignore_index=True)\n",
    "            save_df.to_csv(self.save_fn, index=False)\n",
    "            \n",
    "        else: \n",
    "            output_df.to_csv(self.save_fn, index=False) \n",
    "            \n",
    "    "
   ]
  }
 ],
 "metadata": {
  "kernelspec": {
   "display_name": "Python 3 (ipykernel)",
   "language": "python",
   "name": "python3"
  },
  "language_info": {
   "codemirror_mode": {
    "name": "ipython",
    "version": 3
   },
   "file_extension": ".py",
   "mimetype": "text/x-python",
   "name": "python",
   "nbconvert_exporter": "python",
   "pygments_lexer": "ipython3",
   "version": "3.9.7"
  }
 },
 "nbformat": 4,
 "nbformat_minor": 5
}
