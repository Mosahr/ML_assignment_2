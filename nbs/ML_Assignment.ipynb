{
 "cells": [
  {
   "cell_type": "markdown",
   "id": "43b7cb6c",
   "metadata": {},
   "source": [
    "# Welcome to Machine Learning Assignment 2"
   ]
  },
  {
   "cell_type": "markdown",
   "id": "536ad4eb",
   "metadata": {},
   "source": [
    "## Setup"
   ]
  },
  {
   "cell_type": "code",
   "execution_count": 1,
   "id": "deab83f6",
   "metadata": {},
   "outputs": [],
   "source": [
    "import numpy as np\n",
    "import pandas as pd\n",
    "import io\n",
    "import os\n",
    "import IPython\n",
    "from pycaret.regression import * \n",
    "import pandas as pd\n",
    "from pandas.plotting import scatter_matrix\n",
    "import matplotlib.pyplot as plt\n",
    "from sklearn.preprocessing import StandardScaler\n",
    "import pickle\n",
    "import seaborn as sns\n",
    "import sklearn\n",
    "import tarfile\n",
    "import urllib.request\n",
    "import matplotlib as mpl\n",
    "import matplotlib.pyplot as plt\n",
    "import requests\n",
    "from pandas.plotting import scatter_matrix\n",
    "from sklearn.model_selection import train_test_split\n",
    "from sklearn.model_selection import StratifiedShuffleSplit\n",
    "from sklearn.ensemble import RandomForestRegressor\n",
    "from sklearn.metrics import accuracy_score\n",
    "from sklearn.metrics import mean_squared_error\n",
    "from sklearn.impute import SimpleImputer\n",
    "from zlib import crc32"
   ]
  },
  {
   "cell_type": "markdown",
   "id": "cc3b3ba4",
   "metadata": {},
   "source": [
    "## Importing the data"
   ]
  },
  {
   "cell_type": "code",
   "execution_count": 2,
   "id": "9294aa20",
   "metadata": {},
   "outputs": [],
   "source": [
    "train = pd.read_csv(\"data/train.csv\")\n",
    "test = pd.read_csv(\"data/test.csv\")"
   ]
  },
  {
   "cell_type": "markdown",
   "id": "c57a599f",
   "metadata": {},
   "source": [
    "## Visualisation "
   ]
  },
  {
   "cell_type": "code",
   "execution_count": 3,
   "id": "c02ceafd",
   "metadata": {},
   "outputs": [
    {
     "data": {
      "text/html": [
       "<div>\n",
       "<style scoped>\n",
       "    .dataframe tbody tr th:only-of-type {\n",
       "        vertical-align: middle;\n",
       "    }\n",
       "\n",
       "    .dataframe tbody tr th {\n",
       "        vertical-align: top;\n",
       "    }\n",
       "\n",
       "    .dataframe thead th {\n",
       "        text-align: right;\n",
       "    }\n",
       "</style>\n",
       "<table border=\"1\" class=\"dataframe\">\n",
       "  <thead>\n",
       "    <tr style=\"text-align: right;\">\n",
       "      <th></th>\n",
       "      <th>id</th>\n",
       "      <th>belongs_to_collection</th>\n",
       "      <th>budget</th>\n",
       "      <th>genres</th>\n",
       "      <th>homepage</th>\n",
       "      <th>imdb_id</th>\n",
       "      <th>original_language</th>\n",
       "      <th>original_title</th>\n",
       "      <th>overview</th>\n",
       "      <th>popularity</th>\n",
       "      <th>poster_path</th>\n",
       "      <th>production_companies</th>\n",
       "      <th>production_countries</th>\n",
       "      <th>release_date</th>\n",
       "      <th>runtime</th>\n",
       "      <th>spoken_languages</th>\n",
       "      <th>status</th>\n",
       "      <th>tagline</th>\n",
       "      <th>title</th>\n",
       "      <th>Keywords</th>\n",
       "      <th>cast</th>\n",
       "      <th>crew</th>\n",
       "      <th>revenue</th>\n",
       "    </tr>\n",
       "  </thead>\n",
       "  <tbody>\n",
       "    <tr>\n",
       "      <th>0</th>\n",
       "      <td>1</td>\n",
       "      <td>[{'id': 313576, 'name': 'Hot Tub Time Machine ...</td>\n",
       "      <td>14000000</td>\n",
       "      <td>[{'id': 35, 'name': 'Comedy'}]</td>\n",
       "      <td>NaN</td>\n",
       "      <td>tt2637294</td>\n",
       "      <td>en</td>\n",
       "      <td>Hot Tub Time Machine 2</td>\n",
       "      <td>When Lou, who has become the \"father of the In...</td>\n",
       "      <td>6.575393</td>\n",
       "      <td>/tQtWuwvMf0hCc2QR2tkolwl7c3c.jpg</td>\n",
       "      <td>[{'name': 'Paramount Pictures', 'id': 4}, {'na...</td>\n",
       "      <td>[{'iso_3166_1': 'US', 'name': 'United States o...</td>\n",
       "      <td>2/20/15</td>\n",
       "      <td>93.0</td>\n",
       "      <td>[{'iso_639_1': 'en', 'name': 'English'}]</td>\n",
       "      <td>Released</td>\n",
       "      <td>The Laws of Space and Time are About to be Vio...</td>\n",
       "      <td>Hot Tub Time Machine 2</td>\n",
       "      <td>[{'id': 4379, 'name': 'time travel'}, {'id': 9...</td>\n",
       "      <td>[{'cast_id': 4, 'character': 'Lou', 'credit_id...</td>\n",
       "      <td>[{'credit_id': '59ac067c92514107af02c8c8', 'de...</td>\n",
       "      <td>12314651</td>\n",
       "    </tr>\n",
       "    <tr>\n",
       "      <th>1</th>\n",
       "      <td>2</td>\n",
       "      <td>[{'id': 107674, 'name': 'The Princess Diaries ...</td>\n",
       "      <td>40000000</td>\n",
       "      <td>[{'id': 35, 'name': 'Comedy'}, {'id': 18, 'nam...</td>\n",
       "      <td>NaN</td>\n",
       "      <td>tt0368933</td>\n",
       "      <td>en</td>\n",
       "      <td>The Princess Diaries 2: Royal Engagement</td>\n",
       "      <td>Mia Thermopolis is now a college graduate and ...</td>\n",
       "      <td>8.248895</td>\n",
       "      <td>/w9Z7A0GHEhIp7etpj0vyKOeU1Wx.jpg</td>\n",
       "      <td>[{'name': 'Walt Disney Pictures', 'id': 2}]</td>\n",
       "      <td>[{'iso_3166_1': 'US', 'name': 'United States o...</td>\n",
       "      <td>8/6/04</td>\n",
       "      <td>113.0</td>\n",
       "      <td>[{'iso_639_1': 'en', 'name': 'English'}]</td>\n",
       "      <td>Released</td>\n",
       "      <td>It can take a lifetime to find true love; she'...</td>\n",
       "      <td>The Princess Diaries 2: Royal Engagement</td>\n",
       "      <td>[{'id': 2505, 'name': 'coronation'}, {'id': 42...</td>\n",
       "      <td>[{'cast_id': 1, 'character': 'Mia Thermopolis'...</td>\n",
       "      <td>[{'credit_id': '52fe43fe9251416c7502563d', 'de...</td>\n",
       "      <td>95149435</td>\n",
       "    </tr>\n",
       "    <tr>\n",
       "      <th>2</th>\n",
       "      <td>3</td>\n",
       "      <td>NaN</td>\n",
       "      <td>3300000</td>\n",
       "      <td>[{'id': 18, 'name': 'Drama'}]</td>\n",
       "      <td>http://sonyclassics.com/whiplash/</td>\n",
       "      <td>tt2582802</td>\n",
       "      <td>en</td>\n",
       "      <td>Whiplash</td>\n",
       "      <td>Under the direction of a ruthless instructor, ...</td>\n",
       "      <td>64.299990</td>\n",
       "      <td>/lIv1QinFqz4dlp5U4lQ6HaiskOZ.jpg</td>\n",
       "      <td>[{'name': 'Bold Films', 'id': 2266}, {'name': ...</td>\n",
       "      <td>[{'iso_3166_1': 'US', 'name': 'United States o...</td>\n",
       "      <td>10/10/14</td>\n",
       "      <td>105.0</td>\n",
       "      <td>[{'iso_639_1': 'en', 'name': 'English'}]</td>\n",
       "      <td>Released</td>\n",
       "      <td>The road to greatness can take you to the edge.</td>\n",
       "      <td>Whiplash</td>\n",
       "      <td>[{'id': 1416, 'name': 'jazz'}, {'id': 1523, 'n...</td>\n",
       "      <td>[{'cast_id': 5, 'character': 'Andrew Neimann',...</td>\n",
       "      <td>[{'credit_id': '54d5356ec3a3683ba0000039', 'de...</td>\n",
       "      <td>13092000</td>\n",
       "    </tr>\n",
       "    <tr>\n",
       "      <th>3</th>\n",
       "      <td>4</td>\n",
       "      <td>NaN</td>\n",
       "      <td>1200000</td>\n",
       "      <td>[{'id': 53, 'name': 'Thriller'}, {'id': 18, 'n...</td>\n",
       "      <td>http://kahaanithefilm.com/</td>\n",
       "      <td>tt1821480</td>\n",
       "      <td>hi</td>\n",
       "      <td>Kahaani</td>\n",
       "      <td>Vidya Bagchi (Vidya Balan) arrives in Kolkata ...</td>\n",
       "      <td>3.174936</td>\n",
       "      <td>/aTXRaPrWSinhcmCrcfJK17urp3F.jpg</td>\n",
       "      <td>NaN</td>\n",
       "      <td>[{'iso_3166_1': 'IN', 'name': 'India'}]</td>\n",
       "      <td>3/9/12</td>\n",
       "      <td>122.0</td>\n",
       "      <td>[{'iso_639_1': 'en', 'name': 'English'}, {'iso...</td>\n",
       "      <td>Released</td>\n",
       "      <td>NaN</td>\n",
       "      <td>Kahaani</td>\n",
       "      <td>[{'id': 10092, 'name': 'mystery'}, {'id': 1054...</td>\n",
       "      <td>[{'cast_id': 1, 'character': 'Vidya Bagchi', '...</td>\n",
       "      <td>[{'credit_id': '52fe48779251416c9108d6eb', 'de...</td>\n",
       "      <td>16000000</td>\n",
       "    </tr>\n",
       "    <tr>\n",
       "      <th>4</th>\n",
       "      <td>5</td>\n",
       "      <td>NaN</td>\n",
       "      <td>0</td>\n",
       "      <td>[{'id': 28, 'name': 'Action'}, {'id': 53, 'nam...</td>\n",
       "      <td>NaN</td>\n",
       "      <td>tt1380152</td>\n",
       "      <td>ko</td>\n",
       "      <td>마린보이</td>\n",
       "      <td>Marine Boy is the story of a former national s...</td>\n",
       "      <td>1.148070</td>\n",
       "      <td>/m22s7zvkVFDU9ir56PiiqIEWFdT.jpg</td>\n",
       "      <td>NaN</td>\n",
       "      <td>[{'iso_3166_1': 'KR', 'name': 'South Korea'}]</td>\n",
       "      <td>2/5/09</td>\n",
       "      <td>118.0</td>\n",
       "      <td>[{'iso_639_1': 'ko', 'name': '한국어/조선말'}]</td>\n",
       "      <td>Released</td>\n",
       "      <td>NaN</td>\n",
       "      <td>Marine Boy</td>\n",
       "      <td>NaN</td>\n",
       "      <td>[{'cast_id': 3, 'character': 'Chun-soo', 'cred...</td>\n",
       "      <td>[{'credit_id': '52fe464b9251416c75073b43', 'de...</td>\n",
       "      <td>3923970</td>\n",
       "    </tr>\n",
       "  </tbody>\n",
       "</table>\n",
       "</div>"
      ],
      "text/plain": [
       "   id                              belongs_to_collection    budget  \\\n",
       "0   1  [{'id': 313576, 'name': 'Hot Tub Time Machine ...  14000000   \n",
       "1   2  [{'id': 107674, 'name': 'The Princess Diaries ...  40000000   \n",
       "2   3                                                NaN   3300000   \n",
       "3   4                                                NaN   1200000   \n",
       "4   5                                                NaN         0   \n",
       "\n",
       "                                              genres  \\\n",
       "0                     [{'id': 35, 'name': 'Comedy'}]   \n",
       "1  [{'id': 35, 'name': 'Comedy'}, {'id': 18, 'nam...   \n",
       "2                      [{'id': 18, 'name': 'Drama'}]   \n",
       "3  [{'id': 53, 'name': 'Thriller'}, {'id': 18, 'n...   \n",
       "4  [{'id': 28, 'name': 'Action'}, {'id': 53, 'nam...   \n",
       "\n",
       "                            homepage    imdb_id original_language  \\\n",
       "0                                NaN  tt2637294                en   \n",
       "1                                NaN  tt0368933                en   \n",
       "2  http://sonyclassics.com/whiplash/  tt2582802                en   \n",
       "3         http://kahaanithefilm.com/  tt1821480                hi   \n",
       "4                                NaN  tt1380152                ko   \n",
       "\n",
       "                             original_title  \\\n",
       "0                    Hot Tub Time Machine 2   \n",
       "1  The Princess Diaries 2: Royal Engagement   \n",
       "2                                  Whiplash   \n",
       "3                                   Kahaani   \n",
       "4                                      마린보이   \n",
       "\n",
       "                                            overview  popularity  \\\n",
       "0  When Lou, who has become the \"father of the In...    6.575393   \n",
       "1  Mia Thermopolis is now a college graduate and ...    8.248895   \n",
       "2  Under the direction of a ruthless instructor, ...   64.299990   \n",
       "3  Vidya Bagchi (Vidya Balan) arrives in Kolkata ...    3.174936   \n",
       "4  Marine Boy is the story of a former national s...    1.148070   \n",
       "\n",
       "                        poster_path  \\\n",
       "0  /tQtWuwvMf0hCc2QR2tkolwl7c3c.jpg   \n",
       "1  /w9Z7A0GHEhIp7etpj0vyKOeU1Wx.jpg   \n",
       "2  /lIv1QinFqz4dlp5U4lQ6HaiskOZ.jpg   \n",
       "3  /aTXRaPrWSinhcmCrcfJK17urp3F.jpg   \n",
       "4  /m22s7zvkVFDU9ir56PiiqIEWFdT.jpg   \n",
       "\n",
       "                                production_companies  \\\n",
       "0  [{'name': 'Paramount Pictures', 'id': 4}, {'na...   \n",
       "1        [{'name': 'Walt Disney Pictures', 'id': 2}]   \n",
       "2  [{'name': 'Bold Films', 'id': 2266}, {'name': ...   \n",
       "3                                                NaN   \n",
       "4                                                NaN   \n",
       "\n",
       "                                production_countries release_date  runtime  \\\n",
       "0  [{'iso_3166_1': 'US', 'name': 'United States o...      2/20/15     93.0   \n",
       "1  [{'iso_3166_1': 'US', 'name': 'United States o...       8/6/04    113.0   \n",
       "2  [{'iso_3166_1': 'US', 'name': 'United States o...     10/10/14    105.0   \n",
       "3            [{'iso_3166_1': 'IN', 'name': 'India'}]       3/9/12    122.0   \n",
       "4      [{'iso_3166_1': 'KR', 'name': 'South Korea'}]       2/5/09    118.0   \n",
       "\n",
       "                                    spoken_languages    status  \\\n",
       "0           [{'iso_639_1': 'en', 'name': 'English'}]  Released   \n",
       "1           [{'iso_639_1': 'en', 'name': 'English'}]  Released   \n",
       "2           [{'iso_639_1': 'en', 'name': 'English'}]  Released   \n",
       "3  [{'iso_639_1': 'en', 'name': 'English'}, {'iso...  Released   \n",
       "4           [{'iso_639_1': 'ko', 'name': '한국어/조선말'}]  Released   \n",
       "\n",
       "                                             tagline  \\\n",
       "0  The Laws of Space and Time are About to be Vio...   \n",
       "1  It can take a lifetime to find true love; she'...   \n",
       "2    The road to greatness can take you to the edge.   \n",
       "3                                                NaN   \n",
       "4                                                NaN   \n",
       "\n",
       "                                      title  \\\n",
       "0                    Hot Tub Time Machine 2   \n",
       "1  The Princess Diaries 2: Royal Engagement   \n",
       "2                                  Whiplash   \n",
       "3                                   Kahaani   \n",
       "4                                Marine Boy   \n",
       "\n",
       "                                            Keywords  \\\n",
       "0  [{'id': 4379, 'name': 'time travel'}, {'id': 9...   \n",
       "1  [{'id': 2505, 'name': 'coronation'}, {'id': 42...   \n",
       "2  [{'id': 1416, 'name': 'jazz'}, {'id': 1523, 'n...   \n",
       "3  [{'id': 10092, 'name': 'mystery'}, {'id': 1054...   \n",
       "4                                                NaN   \n",
       "\n",
       "                                                cast  \\\n",
       "0  [{'cast_id': 4, 'character': 'Lou', 'credit_id...   \n",
       "1  [{'cast_id': 1, 'character': 'Mia Thermopolis'...   \n",
       "2  [{'cast_id': 5, 'character': 'Andrew Neimann',...   \n",
       "3  [{'cast_id': 1, 'character': 'Vidya Bagchi', '...   \n",
       "4  [{'cast_id': 3, 'character': 'Chun-soo', 'cred...   \n",
       "\n",
       "                                                crew   revenue  \n",
       "0  [{'credit_id': '59ac067c92514107af02c8c8', 'de...  12314651  \n",
       "1  [{'credit_id': '52fe43fe9251416c7502563d', 'de...  95149435  \n",
       "2  [{'credit_id': '54d5356ec3a3683ba0000039', 'de...  13092000  \n",
       "3  [{'credit_id': '52fe48779251416c9108d6eb', 'de...  16000000  \n",
       "4  [{'credit_id': '52fe464b9251416c75073b43', 'de...   3923970  "
      ]
     },
     "execution_count": 3,
     "metadata": {},
     "output_type": "execute_result"
    }
   ],
   "source": [
    "train.head()"
   ]
  },
  {
   "cell_type": "code",
   "execution_count": 4,
   "id": "6adff4a3",
   "metadata": {},
   "outputs": [
    {
     "name": "stdout",
     "output_type": "stream",
     "text": [
      "<class 'pandas.core.frame.DataFrame'>\n",
      "RangeIndex: 3000 entries, 0 to 2999\n",
      "Data columns (total 23 columns):\n",
      " #   Column                 Non-Null Count  Dtype  \n",
      "---  ------                 --------------  -----  \n",
      " 0   id                     3000 non-null   int64  \n",
      " 1   belongs_to_collection  604 non-null    object \n",
      " 2   budget                 3000 non-null   int64  \n",
      " 3   genres                 2993 non-null   object \n",
      " 4   homepage               946 non-null    object \n",
      " 5   imdb_id                3000 non-null   object \n",
      " 6   original_language      3000 non-null   object \n",
      " 7   original_title         3000 non-null   object \n",
      " 8   overview               2992 non-null   object \n",
      " 9   popularity             3000 non-null   float64\n",
      " 10  poster_path            2999 non-null   object \n",
      " 11  production_companies   2844 non-null   object \n",
      " 12  production_countries   2945 non-null   object \n",
      " 13  release_date           3000 non-null   object \n",
      " 14  runtime                2998 non-null   float64\n",
      " 15  spoken_languages       2980 non-null   object \n",
      " 16  status                 3000 non-null   object \n",
      " 17  tagline                2403 non-null   object \n",
      " 18  title                  3000 non-null   object \n",
      " 19  Keywords               2724 non-null   object \n",
      " 20  cast                   2987 non-null   object \n",
      " 21  crew                   2984 non-null   object \n",
      " 22  revenue                3000 non-null   int64  \n",
      "dtypes: float64(2), int64(3), object(18)\n",
      "memory usage: 539.2+ KB\n"
     ]
    }
   ],
   "source": [
    "train.info()"
   ]
  },
  {
   "cell_type": "code",
   "execution_count": 5,
   "id": "d2cdd6f2",
   "metadata": {},
   "outputs": [
    {
     "data": {
      "text/plain": [
       "(0.0, 338.0)"
      ]
     },
     "execution_count": 5,
     "metadata": {},
     "output_type": "execute_result"
    }
   ],
   "source": [
    "train.runtime.min(), train.runtime.max()"
   ]
  },
  {
   "cell_type": "code",
   "execution_count": 6,
   "id": "7e359aa0",
   "metadata": {},
   "outputs": [
    {
     "data": {
      "image/png": "[encoded data removed]",
      "text/plain": [
       "<Figure size 1440x1080 with 6 Axes>"
      ]
     },
     "metadata": {
      "needs_background": "light"
     },
     "output_type": "display_data"
    }
   ],
   "source": [
    "%matplotlib inline\n",
    "train.hist(bins=50, figsize=(20,15))\n",
    "plt.show()\n",
    "#We see that a big part of our budget is zero so we'll have to fix that later"
   ]
  },
  {
   "cell_type": "code",
   "execution_count": 7,
   "id": "e4f410e2",
   "metadata": {},
   "outputs": [],
   "source": [
    "%matplotlib inline\n",
    "#test.hist(bins=50, figsize=(20,15))\n",
    "#plt.show()"
   ]
  },
  {
   "cell_type": "markdown",
   "id": "519397b0",
   "metadata": {},
   "source": [
    "We create a new attribute popularity per day, which gives the average of the popularity each day."
   ]
  },
  {
   "cell_type": "code",
   "execution_count": 8,
   "id": "1da7a0ee",
   "metadata": {},
   "outputs": [],
   "source": [
    "train[\"pop_per_day\"] = train[\"popularity\"]/train[\"runtime\"]"
   ]
  },
  {
   "cell_type": "code",
   "execution_count": 9,
   "id": "4f83de2f",
   "metadata": {},
   "outputs": [
    {
     "data": {
      "text/plain": [
       "<AxesSubplot:xlabel='revenue', ylabel='pop_per_day'>"
      ]
     },
     "execution_count": 9,
     "metadata": {},
     "output_type": "execute_result"
    },
    {
     "data": {
      "image/png": "[encoded data removed]",
      "text/plain": [
       "<Figure size 432x288 with 1 Axes>"
      ]
     },
     "metadata": {
      "needs_background": "light"
     },
     "output_type": "display_data"
    }
   ],
   "source": [
    "train.plot(kind=\"scatter\", x = \"revenue\", y = \"pop_per_day\", alpha = 0.1)"
   ]
  },
  {
   "cell_type": "code",
   "execution_count": 10,
   "id": "fbfaf0a4",
   "metadata": {},
   "outputs": [
    {
     "data": {
      "text/plain": [
       "revenue        1.000000\n",
       "budget         0.752965\n",
       "popularity     0.461460\n",
       "pop_per_day    0.429610\n",
       "runtime        0.216380\n",
       "id             0.000610\n",
       "Name: revenue, dtype: float64"
      ]
     },
     "execution_count": 10,
     "metadata": {},
     "output_type": "execute_result"
    }
   ],
   "source": [
    "#Correlation matrix for the attributes we are using\n",
    "corr_matrix = train.corr()\n",
    "corr_matrix[\"revenue\"].sort_values(ascending=False)"
   ]
  },
  {
   "cell_type": "code",
   "execution_count": 11,
   "id": "a3cf122f",
   "metadata": {},
   "outputs": [],
   "source": [
    "#These are the attributes we are currently working with\n",
    "attributes = [\"budget\", \"runtime\", \"popularity\", \"revenue\"]\n",
    "train = train[attributes]\n",
    "train = train.dropna()\n",
    "train_labels = train[\"revenue\"].copy()\n",
    "train = train.drop(\"revenue\", axis=1)"
   ]
  },
  {
   "cell_type": "code",
   "execution_count": 12,
   "id": "bc12c90d",
   "metadata": {},
   "outputs": [
    {
     "data": {
      "text/plain": [
       "<AxesSubplot:>"
      ]
     },
     "execution_count": 12,
     "metadata": {},
     "output_type": "execute_result"
    },
    {
     "data": {
      "image/png": "[encoded data removed]",
      "text/plain": [
       "<Figure size 432x288 with 2 Axes>"
      ]
     },
     "metadata": {
      "needs_background": "light"
     },
     "output_type": "display_data"
    }
   ],
   "source": [
    "sns.heatmap(corr_matrix, annot=True,cmap='RdYlGn',linewidths=0.2)"
   ]
  },
  {
   "cell_type": "markdown",
   "id": "ee13f605",
   "metadata": {},
   "source": [
    "## Prepare data for Algorithm"
   ]
  },
  {
   "cell_type": "code",
   "execution_count": 13,
   "id": "73d13807",
   "metadata": {
    "scrolled": true
   },
   "outputs": [],
   "source": [
    "#Drop rows who are NaN\n",
    "train = train.dropna()"
   ]
  },
  {
   "cell_type": "markdown",
   "id": "df96f5fd",
   "metadata": {},
   "source": [
    "#### Filling in 0 values - Budget"
   ]
  },
  {
   "cell_type": "code",
   "execution_count": 14,
   "id": "3246d17e",
   "metadata": {},
   "outputs": [],
   "source": [
    "#Function for filling in the values\n",
    "def budget_fill(df, median_budget):\n",
    "    df.loc[df.budget == 0, 'budget'] = median_budget\n",
    "    return df"
   ]
  },
  {
   "cell_type": "code",
   "execution_count": 15,
   "id": "9eea9057",
   "metadata": {},
   "outputs": [],
   "source": [
    "#Get the median budget but without the 0 values, this would change the value drastically\n",
    "median_budget = train[train['budget'] > 0]['budget'].median()\n",
    "\n",
    "#Fill the 0 values with median values\n",
    "train = budget_fill(train, median_budget)"
   ]
  },
  {
   "cell_type": "markdown",
   "id": "4e86f64c",
   "metadata": {},
   "source": [
    "### Data Cleaning"
   ]
  },
  {
   "cell_type": "code",
   "execution_count": 16,
   "id": "04537cbc",
   "metadata": {},
   "outputs": [],
   "source": [
    "#Feature scale the data, before feeding it to the algorithm\n",
    "scaler = StandardScaler()\n",
    "train_scaled = scaler.fit_transform(train)"
   ]
  },
  {
   "cell_type": "code",
   "execution_count": 17,
   "id": "cc2bdc54",
   "metadata": {},
   "outputs": [
    {
     "data": {
      "text/html": [
       "<div>\n",
       "<style scoped>\n",
       "    .dataframe tbody tr th:only-of-type {\n",
       "        vertical-align: middle;\n",
       "    }\n",
       "\n",
       "    .dataframe tbody tr th {\n",
       "        vertical-align: top;\n",
       "    }\n",
       "\n",
       "    .dataframe thead th {\n",
       "        text-align: right;\n",
       "    }\n",
       "</style>\n",
       "<table border=\"1\" class=\"dataframe\">\n",
       "  <thead>\n",
       "    <tr style=\"text-align: right;\">\n",
       "      <th></th>\n",
       "      <th>budget</th>\n",
       "      <th>runtime</th>\n",
       "      <th>popularity</th>\n",
       "    </tr>\n",
       "  </thead>\n",
       "  <tbody>\n",
       "    <tr>\n",
       "      <th>0</th>\n",
       "      <td>-0.367564</td>\n",
       "      <td>-0.672768</td>\n",
       "      <td>-0.156429</td>\n",
       "    </tr>\n",
       "    <tr>\n",
       "      <th>1</th>\n",
       "      <td>0.374841</td>\n",
       "      <td>0.232916</td>\n",
       "      <td>-0.018170</td>\n",
       "    </tr>\n",
       "    <tr>\n",
       "      <th>2</th>\n",
       "      <td>-0.673093</td>\n",
       "      <td>-0.129358</td>\n",
       "      <td>4.612579</td>\n",
       "    </tr>\n",
       "    <tr>\n",
       "      <th>3</th>\n",
       "      <td>-0.733056</td>\n",
       "      <td>0.640474</td>\n",
       "      <td>-0.437363</td>\n",
       "    </tr>\n",
       "    <tr>\n",
       "      <th>4</th>\n",
       "      <td>-0.310456</td>\n",
       "      <td>0.459337</td>\n",
       "      <td>-0.604815</td>\n",
       "    </tr>\n",
       "    <tr>\n",
       "      <th>5</th>\n",
       "      <td>-0.538889</td>\n",
       "      <td>-1.125610</td>\n",
       "      <td>-0.638258</td>\n",
       "    </tr>\n",
       "    <tr>\n",
       "      <th>6</th>\n",
       "      <td>-0.367564</td>\n",
       "      <td>-0.718052</td>\n",
       "      <td>-0.097681</td>\n",
       "    </tr>\n",
       "    <tr>\n",
       "      <th>7</th>\n",
       "      <td>-0.310456</td>\n",
       "      <td>-1.080326</td>\n",
       "      <td>-0.538642</td>\n",
       "    </tr>\n",
       "    <tr>\n",
       "      <th>8</th>\n",
       "      <td>-0.310456</td>\n",
       "      <td>-0.355779</td>\n",
       "      <td>-0.129410</td>\n",
       "    </tr>\n",
       "    <tr>\n",
       "      <th>9</th>\n",
       "      <td>-0.595997</td>\n",
       "      <td>-0.763337</td>\n",
       "      <td>-0.313677</td>\n",
       "    </tr>\n",
       "  </tbody>\n",
       "</table>\n",
       "</div>"
      ],
      "text/plain": [
       "     budget   runtime  popularity\n",
       "0 -0.367564 -0.672768   -0.156429\n",
       "1  0.374841  0.232916   -0.018170\n",
       "2 -0.673093 -0.129358    4.612579\n",
       "3 -0.733056  0.640474   -0.437363\n",
       "4 -0.310456  0.459337   -0.604815\n",
       "5 -0.538889 -1.125610   -0.638258\n",
       "6 -0.367564 -0.718052   -0.097681\n",
       "7 -0.310456 -1.080326   -0.538642\n",
       "8 -0.310456 -0.355779   -0.129410\n",
       "9 -0.595997 -0.763337   -0.313677"
      ]
     },
     "execution_count": 17,
     "metadata": {},
     "output_type": "execute_result"
    }
   ],
   "source": [
    "train_ready = pd.DataFrame(train_scaled, columns=['budget', 'runtime', 'popularity'])\n",
    "train_ready.head(10)"
   ]
  },
  {
   "cell_type": "markdown",
   "id": "491c0b7f",
   "metadata": {},
   "source": [
    "## Random forest algorithm"
   ]
  },
  {
   "cell_type": "markdown",
   "id": "ace6f67b",
   "metadata": {},
   "source": [
    "#### Setup for evaluation"
   ]
  },
  {
   "cell_type": "code",
   "execution_count": 18,
   "id": "f6b252cf",
   "metadata": {},
   "outputs": [],
   "source": [
    "#get the rmse from the trained model\n",
    "def rmse(y_pred,y_true):\n",
    "    return np.sqrt(mean_squared_error(y_pred, y_true))\n",
    "def print_scores(model):\n",
    "    print(f'Score Train R2: {model.score(X_train,y_train)}')\n",
    "    print(f'RMSE Train R2: {rmse(model.predict(X_train), y_train)}')"
   ]
  },
  {
   "cell_type": "code",
   "execution_count": 19,
   "id": "2e60fb8e",
   "metadata": {},
   "outputs": [],
   "source": [
    "#Setup for Random forest\n",
    "seed = 42\n",
    "np.random.seed(seed)"
   ]
  },
  {
   "cell_type": "code",
   "execution_count": 20,
   "id": "c090d157",
   "metadata": {},
   "outputs": [],
   "source": [
    "X_train, X_valid, y_train, y_valid = train_test_split(\n",
    "    train_ready,train_labels, \n",
    "    test_size=0.1, \n",
    "    random_state=42\n",
    ")"
   ]
  },
  {
   "cell_type": "code",
   "execution_count": 21,
   "id": "08749366",
   "metadata": {},
   "outputs": [],
   "source": [
    "rf = RandomForestRegressor(n_estimators = 30, min_samples_leaf = 4, max_features = 0.3, n_jobs = 1, oob_score = True, random_state = 42)"
   ]
  },
  {
   "cell_type": "code",
   "execution_count": 22,
   "id": "ce2ac1ea",
   "metadata": {},
   "outputs": [
    {
     "data": {
      "text/plain": [
       "RandomForestRegressor(max_features=0.3, min_samples_leaf=4, n_estimators=30,\n",
       "                      n_jobs=1, oob_score=True, random_state=42)"
      ]
     },
     "execution_count": 22,
     "metadata": {},
     "output_type": "execute_result"
    }
   ],
   "source": [
    "rf.fit(X_train, y_train)"
   ]
  },
  {
   "cell_type": "code",
   "execution_count": 23,
   "id": "773a72e5",
   "metadata": {
    "scrolled": true
   },
   "outputs": [
    {
     "name": "stdout",
     "output_type": "stream",
     "text": [
      "Score Train R2: 0.7750974420165897\n",
      "RMSE Train R2: 66307169.858506724\n",
      "862640520.71\n"
     ]
    }
   ],
   "source": [
    "print_scores(rf)\n",
    "format_result = \"{:.2f}\".format(float(rf.predict([[102000000,145.0,20.666063]])))\n",
    "print(format_result)"
   ]
  },
  {
   "cell_type": "markdown",
   "id": "99d31d27",
   "metadata": {},
   "source": [
    "## Export model"
   ]
  },
  {
   "cell_type": "code",
   "execution_count": 24,
   "id": "c36c6565",
   "metadata": {},
   "outputs": [],
   "source": [
    "pickle.dump(rf, open('../model/box_office_model.pkl', 'wb'))"
   ]
  }
 ],
 "metadata": {
  "kernelspec": {
   "display_name": "Python 3",
   "language": "python",
   "name": "python3"
  },
  "language_info": {
   "codemirror_mode": {
    "name": "ipython",
    "version": 3
   },
   "file_extension": ".py",
   "mimetype": "text/x-python",
   "name": "python",
   "nbconvert_exporter": "python",
   "pygments_lexer": "ipython3",
   "version": "3.8.8"
  }
 },
 "nbformat": 4,
 "nbformat_minor": 5
}
