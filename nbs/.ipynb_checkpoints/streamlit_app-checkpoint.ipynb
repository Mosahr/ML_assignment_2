{
 "cells": [
  {
   "cell_type": "markdown",
   "id": "e1df8775",
   "metadata": {},
   "source": [
    "## Imports"
   ]
  },
  {
   "cell_type": "code",
   "execution_count": 9,
   "id": "a5d978e9",
   "metadata": {},
   "outputs": [],
   "source": [
    "from pycaret.regression import *\n",
    "import pandas as pd \n",
    "import numpy as np\n",
    "from sklearn.preprocessing import StandardScaler\n",
    "import streamlit as st\n",
    "from PIL import Image\n",
    "import os\n",
    "import pickle"
   ]
  },
  {
   "cell_type": "markdown",
   "id": "5836462d",
   "metadata": {},
   "source": [
    "## Streamlit"
   ]
  },
  {
   "cell_type": "code",
   "execution_count": 10,
   "id": "8a9d8fb8",
   "metadata": {
    "scrolled": true
   },
   "outputs": [],
   "source": [
    "model = pickle.load(open('../model/box_office_model.pkl','rb'))\n",
    "\n",
    "def main():\n",
    "    image = Image.open('../assets/Box_Office.jfif')\n",
    "    st.image(image, use_column_width=False)\n",
    "\n",
    "\n",
    "    add_selectbox = st.sidebar.selectbox('How would you like to predict?', ('Online', 'Batch')) #bruke batch for aa predikere paa alle bildene. \n",
    "    st.sidebar.info('This app is created to predict revenue for movies' )\n",
    "    st.sidebar.success('DAT158')\n",
    "    st.title('Box Office Predictions')\n",
    "    \n",
    "\n",
    "    if add_selectbox == 'Online': \n",
    "        budget = st.number_input('budget', min_value=0, max_value=100000000, value=1000000)\n",
    "        popularity = st.number_input('popularity', min_value=0, max_value=100, value=0)\n",
    "        runtime = st.number_input('runtime', min_value=0, max_value=500, value=0)\n",
    "        \n",
    "        inputs = [[budget,runtime,popularity]]\n",
    "        inputs_scaled = StandardScaler().fit_transform(inputs)\n",
    "\n",
    "        if st.button('Predict'): \n",
    "            result = model.predict(inputs_scaled)\n",
    "            print('result: ',result)\n",
    "            result = result.flatten().astype(float)\n",
    "            st.success('Predicted output: {}'.format(result))\n",
    "            \n",
    "        \n",
    "        \n",
    "    if add_selectbox == 'Batch': \n",
    "        fn = st.file_uploader(\"Upload csv file for predictions\") #st.file_uploader('Upload csv file for predictions, type=[\"csv\"]')\n",
    "        if fn is not None: \n",
    "            input_df = pd.read_csv(fn)\n",
    "            predictions = self.predict(input_df)\n",
    "            st.write(predictions)\n",
    "if __name__ =='__main__':\n",
    "  main()"
   ]
  },
  {
   "cell_type": "code",
   "execution_count": 11,
   "id": "d123b14a",
   "metadata": {},
   "outputs": [
    {
     "name": "stderr",
     "output_type": "stream",
     "text": [
      "[NbConvertApp] Converting notebook streamlit_app.ipynb to script\n",
      "[NbConvertApp] Writing 1914 bytes to streamlit_app.py\n"
     ]
    }
   ],
   "source": [
    "!jupyter nbconvert --to script streamlit_app.ipynb"
   ]
  }
 ],
 "metadata": {
  "kernelspec": {
   "display_name": "Python 3",
   "language": "python",
   "name": "python3"
  },
  "language_info": {
   "codemirror_mode": {
    "name": "ipython",
    "version": 3
   },
   "file_extension": ".py",
   "mimetype": "text/x-python",
   "name": "python",
   "nbconvert_exporter": "python",
   "pygments_lexer": "ipython3",
   "version": "3.8.8"
  }
 },
 "nbformat": 4,
 "nbformat_minor": 5
}
